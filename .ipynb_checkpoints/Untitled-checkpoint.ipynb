{
 "cells": [
  {
   "cell_type": "markdown",
   "id": "8c23bc0d",
   "metadata": {},
   "source": [
    "### Import Libraries"
   ]
  },
  {
   "cell_type": "code",
   "execution_count": 1,
   "id": "3e811590",
   "metadata": {},
   "outputs": [],
   "source": [
    "import pandas as pd\n",
    "import numpy as np\n",
    "# Library to get countries codes\n",
    "import pycountry"
   ]
  },
  {
   "cell_type": "markdown",
   "id": "38edeb0d",
   "metadata": {},
   "source": [
    "### Function used for proccessing"
   ]
  },
  {
   "cell_type": "code",
   "execution_count": 2,
   "id": "d17544a2",
   "metadata": {},
   "outputs": [],
   "source": [
    "# Function to get country name by the code\n",
    "def countries(x):\n",
    "    country = pycountry.countries.get(alpha_2=x)\n",
    "    if country != None:\n",
    "        return country.name\n",
    "    else:\n",
    "        return x\n",
    "    \n",
    "\n",
    "# Function to classify the activites\n",
    "def classify(x):\n",
    "    activities = ['Studies','Traineeships','Youth Exchange',\"Teach\",\"Training\",'Voluntary',\"Workers\",\"Learner\",\"Planning\",'Job']\n",
    "    for i in activities:\n",
    "        if i in x.title():\n",
    "            return i\n",
    "        else:\n",
    "            pass  "
   ]
  },
  {
   "cell_type": "markdown",
   "id": "c743f5ba",
   "metadata": {},
   "source": [
    "### Read Dataset"
   ]
  },
  {
   "cell_type": "code",
   "execution_count": 3,
   "id": "c982f7c0",
   "metadata": {},
   "outputs": [
    {
     "data": {
      "text/html": [
       "<div>\n",
       "<style scoped>\n",
       "    .dataframe tbody tr th:only-of-type {\n",
       "        vertical-align: middle;\n",
       "    }\n",
       "\n",
       "    .dataframe tbody tr th {\n",
       "        vertical-align: top;\n",
       "    }\n",
       "\n",
       "    .dataframe thead th {\n",
       "        text-align: right;\n",
       "    }\n",
       "</style>\n",
       "<table border=\"1\" class=\"dataframe\">\n",
       "  <thead>\n",
       "    <tr style=\"text-align: right;\">\n",
       "      <th></th>\n",
       "      <th>Unnamed: 0</th>\n",
       "      <th>Project Reference</th>\n",
       "      <th>Academic Year</th>\n",
       "      <th>Mobility Start Month</th>\n",
       "      <th>Mobility End Month</th>\n",
       "      <th>Mobility Duration</th>\n",
       "      <th>Activity (mob)</th>\n",
       "      <th>Field of Education</th>\n",
       "      <th>Participant Nationality</th>\n",
       "      <th>Education Level</th>\n",
       "      <th>...</th>\n",
       "      <th>Participant Age</th>\n",
       "      <th>Sending Country Code</th>\n",
       "      <th>Sending City</th>\n",
       "      <th>Sending Organization</th>\n",
       "      <th>Sending Organisation Erasmus Code</th>\n",
       "      <th>Receiving Country Code</th>\n",
       "      <th>Receiving City</th>\n",
       "      <th>Receiving Organization</th>\n",
       "      <th>Receiving Organisation Erasmus Code</th>\n",
       "      <th>Participants</th>\n",
       "    </tr>\n",
       "  </thead>\n",
       "  <tbody>\n",
       "    <tr>\n",
       "      <th>0</th>\n",
       "      <td>0</td>\n",
       "      <td>2017-1-PT01-KA103-035561</td>\n",
       "      <td>2018-2019</td>\n",
       "      <td>2018-02</td>\n",
       "      <td>2018-06</td>\n",
       "      <td>113</td>\n",
       "      <td>Student mobility for studies between Programme...</td>\n",
       "      <td>Business and administration, not further defined</td>\n",
       "      <td>PT</td>\n",
       "      <td>ISCED-6 - First cycle / Bachelor’s or equivale...</td>\n",
       "      <td>...</td>\n",
       "      <td>21.0</td>\n",
       "      <td>PT</td>\n",
       "      <td>FARO</td>\n",
       "      <td>UNIVERSIDADE DO ALGARVE</td>\n",
       "      <td>P  FARO02</td>\n",
       "      <td>PL</td>\n",
       "      <td>POZNAN</td>\n",
       "      <td>UNIWERSYTET EKONOMICZNY W POZNANIU</td>\n",
       "      <td>PL POZNAN03</td>\n",
       "      <td>1</td>\n",
       "    </tr>\n",
       "    <tr>\n",
       "      <th>1</th>\n",
       "      <td>1</td>\n",
       "      <td>2018-1-AT01-KA103-038802</td>\n",
       "      <td>2018-2019</td>\n",
       "      <td>2018-06</td>\n",
       "      <td>2018-08</td>\n",
       "      <td>62</td>\n",
       "      <td>Student mobility for traineeships between Prog...</td>\n",
       "      <td>Food processing</td>\n",
       "      <td>AT</td>\n",
       "      <td>ISCED-6 - First cycle / Bachelor’s or equivale...</td>\n",
       "      <td>...</td>\n",
       "      <td>20.0</td>\n",
       "      <td>AT</td>\n",
       "      <td>WIEN</td>\n",
       "      <td>UNIVERSITAET FUER BODENKULTUR WIEN</td>\n",
       "      <td>A  WIEN03</td>\n",
       "      <td>IE</td>\n",
       "      <td>Galway</td>\n",
       "      <td>NATIONAL UNIVERSITY OF IRELAND GALWAY</td>\n",
       "      <td>-</td>\n",
       "      <td>1</td>\n",
       "    </tr>\n",
       "    <tr>\n",
       "      <th>2</th>\n",
       "      <td>2</td>\n",
       "      <td>2014-2-UK01-KA105-001458</td>\n",
       "      <td>2015-2016</td>\n",
       "      <td>2015-01</td>\n",
       "      <td>2015-01</td>\n",
       "      <td>12</td>\n",
       "      <td>Youth Exchanges - Partner Countries</td>\n",
       "      <td>? Unknown ?</td>\n",
       "      <td>BY</td>\n",
       "      <td>??? - ? Unknown ?</td>\n",
       "      <td>...</td>\n",
       "      <td>21.0</td>\n",
       "      <td>BY</td>\n",
       "      <td>Mogilev</td>\n",
       "      <td>Young leaders of Mogilev</td>\n",
       "      <td>-</td>\n",
       "      <td>AZ</td>\n",
       "      <td>SIRVAN</td>\n",
       "      <td>Association of Sirvan Youth</td>\n",
       "      <td>-</td>\n",
       "      <td>4</td>\n",
       "    </tr>\n",
       "    <tr>\n",
       "      <th>3</th>\n",
       "      <td>3</td>\n",
       "      <td>2017-1-FR01-KA103-035756</td>\n",
       "      <td>2017-2018</td>\n",
       "      <td>2017-09</td>\n",
       "      <td>2018-06</td>\n",
       "      <td>257</td>\n",
       "      <td>Student mobility for studies between Programme...</td>\n",
       "      <td>Engineering and engineering trades, not furthe...</td>\n",
       "      <td>FR</td>\n",
       "      <td>ISCED-7 - Second cycle / Master’s or equivalen...</td>\n",
       "      <td>...</td>\n",
       "      <td>21.0</td>\n",
       "      <td>FR</td>\n",
       "      <td>GIF SUR YVETTE</td>\n",
       "      <td>CENTRALESUPELEC</td>\n",
       "      <td>F  GIF-YVE03</td>\n",
       "      <td>UK</td>\n",
       "      <td>CAMBRIDGE</td>\n",
       "      <td>THE CHANCELLOR, MASTERS AND SCHOLARS OF THE UN...</td>\n",
       "      <td>UK CAMBRID01</td>\n",
       "      <td>1</td>\n",
       "    </tr>\n",
       "    <tr>\n",
       "      <th>4</th>\n",
       "      <td>4</td>\n",
       "      <td>2014-1-IT02-KA103-000159</td>\n",
       "      <td>2014-2015</td>\n",
       "      <td>2014-08</td>\n",
       "      <td>2015-07</td>\n",
       "      <td>320</td>\n",
       "      <td>Student mobility for studies between Programme...</td>\n",
       "      <td>Pharmacy</td>\n",
       "      <td>IT</td>\n",
       "      <td>ISCED-7 - Second cycle / Master’s or equivalen...</td>\n",
       "      <td>...</td>\n",
       "      <td>29.0</td>\n",
       "      <td>IT</td>\n",
       "      <td>FISCIANO SA</td>\n",
       "      <td>UNIVERSITA DEGLI STUDI DI SALERNO</td>\n",
       "      <td>I  SALERNO01</td>\n",
       "      <td>FR</td>\n",
       "      <td>CAEN CEDEX 05</td>\n",
       "      <td>UNIVERSITE DE CAEN BASSE-NORMANDIE</td>\n",
       "      <td>F  CAEN01</td>\n",
       "      <td>1</td>\n",
       "    </tr>\n",
       "  </tbody>\n",
       "</table>\n",
       "<p>5 rows × 25 columns</p>\n",
       "</div>"
      ],
      "text/plain": [
       "   Unnamed: 0         Project Reference Academic Year Mobility Start Month  \\\n",
       "0           0  2017-1-PT01-KA103-035561     2018-2019              2018-02   \n",
       "1           1  2018-1-AT01-KA103-038802     2018-2019              2018-06   \n",
       "2           2  2014-2-UK01-KA105-001458     2015-2016              2015-01   \n",
       "3           3  2017-1-FR01-KA103-035756     2017-2018              2017-09   \n",
       "4           4  2014-1-IT02-KA103-000159     2014-2015              2014-08   \n",
       "\n",
       "  Mobility End Month  Mobility Duration  \\\n",
       "0            2018-06                113   \n",
       "1            2018-08                 62   \n",
       "2            2015-01                 12   \n",
       "3            2018-06                257   \n",
       "4            2015-07                320   \n",
       "\n",
       "                                      Activity (mob)  \\\n",
       "0  Student mobility for studies between Programme...   \n",
       "1  Student mobility for traineeships between Prog...   \n",
       "2                Youth Exchanges - Partner Countries   \n",
       "3  Student mobility for studies between Programme...   \n",
       "4  Student mobility for studies between Programme...   \n",
       "\n",
       "                                  Field of Education Participant Nationality  \\\n",
       "0   Business and administration, not further defined                      PT   \n",
       "1                                    Food processing                      AT   \n",
       "2                                        ? Unknown ?                      BY   \n",
       "3  Engineering and engineering trades, not furthe...                      FR   \n",
       "4                                           Pharmacy                      IT   \n",
       "\n",
       "                                     Education Level  ... Participant Age  \\\n",
       "0  ISCED-6 - First cycle / Bachelor’s or equivale...  ...            21.0   \n",
       "1  ISCED-6 - First cycle / Bachelor’s or equivale...  ...            20.0   \n",
       "2                                  ??? - ? Unknown ?  ...            21.0   \n",
       "3  ISCED-7 - Second cycle / Master’s or equivalen...  ...            21.0   \n",
       "4  ISCED-7 - Second cycle / Master’s or equivalen...  ...            29.0   \n",
       "\n",
       "  Sending Country Code    Sending City                Sending Organization  \\\n",
       "0                   PT            FARO             UNIVERSIDADE DO ALGARVE   \n",
       "1                   AT            WIEN  UNIVERSITAET FUER BODENKULTUR WIEN   \n",
       "2                   BY         Mogilev            Young leaders of Mogilev   \n",
       "3                   FR  GIF SUR YVETTE                     CENTRALESUPELEC   \n",
       "4                   IT     FISCIANO SA   UNIVERSITA DEGLI STUDI DI SALERNO   \n",
       "\n",
       "  Sending Organisation Erasmus Code  Receiving Country Code Receiving City  \\\n",
       "0                         P  FARO02                      PL         POZNAN   \n",
       "1                         A  WIEN03                      IE         Galway   \n",
       "2                                 -                      AZ         SIRVAN   \n",
       "3                      F  GIF-YVE03                      UK      CAMBRIDGE   \n",
       "4                      I  SALERNO01                      FR  CAEN CEDEX 05   \n",
       "\n",
       "                              Receiving Organization  \\\n",
       "0                 UNIWERSYTET EKONOMICZNY W POZNANIU   \n",
       "1              NATIONAL UNIVERSITY OF IRELAND GALWAY   \n",
       "2                        Association of Sirvan Youth   \n",
       "3  THE CHANCELLOR, MASTERS AND SCHOLARS OF THE UN...   \n",
       "4                 UNIVERSITE DE CAEN BASSE-NORMANDIE   \n",
       "\n",
       "  Receiving Organisation Erasmus Code Participants  \n",
       "0                         PL POZNAN03            1  \n",
       "1                                   -            1  \n",
       "2                                   -            4  \n",
       "3                        UK CAMBRID01            1  \n",
       "4                           F  CAEN01            1  \n",
       "\n",
       "[5 rows x 25 columns]"
      ]
     },
     "execution_count": 3,
     "metadata": {},
     "output_type": "execute_result"
    }
   ],
   "source": [
    "df = pd.read_csv(\"e+ exchange data/Erasmus_mobility_statistics_2014_2019.csv\")\n",
    "df.head()"
   ]
  },
  {
   "cell_type": "markdown",
   "id": "a6085903",
   "metadata": {},
   "source": [
    "### Del Cols"
   ]
  },
  {
   "cell_type": "code",
   "execution_count": 4,
   "id": "601d4c65",
   "metadata": {},
   "outputs": [],
   "source": [
    "del df[\"Unnamed: 0\"]"
   ]
  },
  {
   "cell_type": "markdown",
   "id": "e13a8bc1",
   "metadata": {},
   "source": [
    "### Columns"
   ]
  },
  {
   "cell_type": "code",
   "execution_count": 5,
   "id": "f48cd620",
   "metadata": {},
   "outputs": [
    {
     "data": {
      "text/plain": [
       "Index(['Project Reference', 'Academic Year', 'Mobility Start Month',\n",
       "       'Mobility End Month', 'Mobility Duration', 'Activity (mob)',\n",
       "       'Field of Education', 'Participant Nationality', 'Education Level',\n",
       "       'Participant Gender', 'Participant Profile', 'Special Needs',\n",
       "       'Fewer Opportunities', 'GroupLeader', 'Participant Age',\n",
       "       'Sending Country Code', 'Sending City', 'Sending Organization',\n",
       "       'Sending Organisation Erasmus Code', 'Receiving Country Code',\n",
       "       'Receiving City', 'Receiving Organization',\n",
       "       'Receiving Organisation Erasmus Code', 'Participants'],\n",
       "      dtype='object')"
      ]
     },
     "execution_count": 5,
     "metadata": {},
     "output_type": "execute_result"
    }
   ],
   "source": [
    "df.columns"
   ]
  },
  {
   "cell_type": "markdown",
   "id": "481fb071",
   "metadata": {},
   "source": [
    "### Data Transforamtion"
   ]
  },
  {
   "cell_type": "markdown",
   "id": "12094d7c",
   "metadata": {},
   "source": [
    "#### Handle missing values and Change Dtype"
   ]
  },
  {
   "cell_type": "code",
   "execution_count": 6,
   "id": "e43b3645",
   "metadata": {},
   "outputs": [
    {
     "name": "stdout",
     "output_type": "stream",
     "text": [
      "Project Reference                      0\n",
      "Academic Year                          0\n",
      "Mobility Start Month                   0\n",
      "Mobility End Month                     0\n",
      "Mobility Duration                      0\n",
      "Activity (mob)                         0\n",
      "Field of Education                     0\n",
      "Participant Nationality                2\n",
      "Education Level                        0\n",
      "Participant Gender                     0\n",
      "Participant Profile                    0\n",
      "Special Needs                          0\n",
      "Fewer Opportunities                    0\n",
      "GroupLeader                            0\n",
      "Participant Age                        0\n",
      "Sending Country Code                   2\n",
      "Sending City                           0\n",
      "Sending Organization                   0\n",
      "Sending Organisation Erasmus Code      0\n",
      "Receiving Country Code                 0\n",
      "Receiving City                         0\n",
      "Receiving Organization                 0\n",
      "Receiving Organisation Erasmus Code    0\n",
      "Participants                           0\n",
      "dtype: int64\n"
     ]
    }
   ],
   "source": [
    "# Missing Value\n",
    "print(df.isnull().sum())"
   ]
  },
  {
   "cell_type": "markdown",
   "id": "94ddee21",
   "metadata": {},
   "source": [
    "##### There are two cols have missing values, will be handled below"
   ]
  },
  {
   "cell_type": "markdown",
   "id": "bd93f467",
   "metadata": {},
   "source": [
    "## Data Transformation"
   ]
  },
  {
   "cell_type": "markdown",
   "id": "4126ecbd",
   "metadata": {},
   "source": [
    "### Let us start with Age column"
   ]
  },
  {
   "cell_type": "code",
   "execution_count": 7,
   "id": "6528f521",
   "metadata": {},
   "outputs": [
    {
     "data": {
      "text/plain": [
       "array([ 21.,  20.,  29.,  39.,  19.,  23.,  31.,  61.,  22.,  18.,  32.,\n",
       "        57.,  15.,  35.,  27.,  42.,  45.,  17.,  50.,  24.,  28.,  16.,\n",
       "        25.,  47.,  26.,  53.,  58.,  60.,  38.,  30.,  40.,  41.,  33.,\n",
       "        62.,  59.,  55.,  51.,  56.,  73.,  37., 114.,  14.,  52.,  64.,\n",
       "        34.,  43.,  49.,  44.,  48.,  65.,  54.,  46.,  67.,  13.,  36.,\n",
       "        63.,  68.,  69.,  66.,   0.,  -1., 361.,  71.])"
      ]
     },
     "execution_count": 7,
     "metadata": {},
     "output_type": "execute_result"
    }
   ],
   "source": [
    "df['Participant Age'].unique()"
   ]
  },
  {
   "cell_type": "code",
   "execution_count": 8,
   "id": "bc03ba49",
   "metadata": {},
   "outputs": [],
   "source": [
    "# Cleaning of Age column\n",
    "df['Participant Age'] = df['Participant Age'].replace([361,114,\"-\",-1,0],np.nan)"
   ]
  },
  {
   "cell_type": "markdown",
   "id": "3242016c",
   "metadata": {},
   "source": [
    "Fill nan values in age by ffill() method"
   ]
  },
  {
   "cell_type": "code",
   "execution_count": 9,
   "id": "516b5267",
   "metadata": {},
   "outputs": [],
   "source": [
    "df['Participant Age'] = df['Participant Age'].ffill()"
   ]
  },
  {
   "cell_type": "markdown",
   "id": "43d4871a",
   "metadata": {},
   "source": [
    "##### Change Datatype for continues data"
   ]
  },
  {
   "cell_type": "code",
   "execution_count": 10,
   "id": "d9893511",
   "metadata": {},
   "outputs": [],
   "source": [
    "# Object to Int\n",
    "df = df.astype({'Mobility Duration':'int','Participant Age':'int','Participants':'int'})"
   ]
  },
  {
   "cell_type": "code",
   "execution_count": 11,
   "id": "e0ec05fd",
   "metadata": {},
   "outputs": [
    {
     "data": {
      "text/plain": [
       "array([21, 20, 29, 39, 19, 23, 31, 61, 22, 18, 32, 57, 15, 35, 27, 42, 45,\n",
       "       17, 50, 24, 28, 16, 25, 47, 26, 53, 58, 60, 38, 30, 40, 41, 33, 62,\n",
       "       59, 55, 51, 56, 73, 37, 14, 52, 64, 34, 43, 49, 44, 48, 65, 54, 46,\n",
       "       67, 13, 36, 63, 68, 69, 66, 71])"
      ]
     },
     "execution_count": 11,
     "metadata": {},
     "output_type": "execute_result"
    }
   ],
   "source": [
    "df['Participant Age'].unique()"
   ]
  },
  {
   "cell_type": "markdown",
   "id": "029a6b4c",
   "metadata": {},
   "source": [
    "### Activity Classification"
   ]
  },
  {
   "cell_type": "code",
   "execution_count": 12,
   "id": "05f2498b",
   "metadata": {},
   "outputs": [
    {
     "data": {
      "text/plain": [
       "array(['Student mobility for studies between Programme Countries',\n",
       "       'Student mobility for traineeships between Programme Countries',\n",
       "       'Youth Exchanges - Partner Countries',\n",
       "       'Youth Exchanges - Programme Countries',\n",
       "       'Staff mobility for teaching between Programme Countries',\n",
       "       'Structured Courses/Training Events',\n",
       "       'VET learners traineeships in companies abroad',\n",
       "       'European Voluntary Service - Programme Countries',\n",
       "       'Training/teaching assignments abroad',\n",
       "       'Staff mobility for training between Programme Countries',\n",
       "       'Advance Planning Visit – Youth Exchange',\n",
       "       'Mobility of youth workers - Programme Countries',\n",
       "       'Staff training abroad',\n",
       "       'VET learners traineeships in vocational institutes abroad',\n",
       "       'Mobility of youth workers - Partner Countries',\n",
       "       'Mobility of VET learners (2 weeks up to 3 months)',\n",
       "       'Job Shadowing', 'European Voluntary Service - Partner Countries',\n",
       "       'ErasmusPro - Mobility of VET learners (3 to 12 months)',\n",
       "       'Staff mobility for Training To/From Partner Countries',\n",
       "       'Student mobility for Studies To/From Partner Countries',\n",
       "       'Student mobility for traineeships To/From Partner Countries',\n",
       "       'Teaching/training assignments abroad',\n",
       "       'Staff mobility for Teaching To/From Partner Countries',\n",
       "       'Individual Volunteering Activities',\n",
       "       'Group Volunteering Activities', 'Advance Planning Visit – EVS',\n",
       "       'Advance Planning Visit - Erasmus- PRO'], dtype=object)"
      ]
     },
     "execution_count": 12,
     "metadata": {},
     "output_type": "execute_result"
    }
   ],
   "source": [
    "df['Activity (mob)'].unique()"
   ]
  },
  {
   "cell_type": "markdown",
   "id": "971a42d5",
   "metadata": {},
   "source": [
    "#### Update some values to be correct"
   ]
  },
  {
   "cell_type": "code",
   "execution_count": 13,
   "id": "66f49ef7",
   "metadata": {},
   "outputs": [],
   "source": [
    "df['Activity (mob)'] = df['Activity (mob)'].replace({\n",
    "    'Training/teaching assignments abroad':'Training assignments abroad',\n",
    "    'Teaching/training assignments abroad':'Training assignments abroad',\n",
    "    'VET learners traineeships in companies abroad':'VET traineeships in companies abroad',\n",
    "    'Group Volunteering Activities':'Group Voluntary Activities',\n",
    "    'Individual Volunteering Activities':'Individual Voluntary Activities'\n",
    "})"
   ]
  },
  {
   "cell_type": "markdown",
   "id": "31249230",
   "metadata": {},
   "source": [
    "####  Classifing the activites"
   ]
  },
  {
   "cell_type": "code",
   "execution_count": 14,
   "id": "965abd10",
   "metadata": {},
   "outputs": [],
   "source": [
    "df['Activity Classification'] = df['Activity (mob)'].apply(lambda x: classify(x))"
   ]
  },
  {
   "cell_type": "code",
   "execution_count": 15,
   "id": "ffe7d106",
   "metadata": {},
   "outputs": [
    {
     "data": {
      "text/plain": [
       "array(['Studies', 'Traineeships', 'Youth Exchange', 'Teach', 'Training',\n",
       "       'Voluntary', 'Workers', 'Learner', 'Job', 'Planning'], dtype=object)"
      ]
     },
     "execution_count": 15,
     "metadata": {},
     "output_type": "execute_result"
    }
   ],
   "source": [
    "df['Activity Classification'].unique()"
   ]
  },
  {
   "cell_type": "markdown",
   "id": "2e556fa5",
   "metadata": {},
   "source": [
    "### Let us start with Field of Education"
   ]
  },
  {
   "cell_type": "code",
   "execution_count": 16,
   "id": "e7a1e831",
   "metadata": {},
   "outputs": [
    {
     "data": {
      "text/plain": [
       "array(['Business and administration, not further defined',\n",
       "       'Food processing', '? Unknown ?',\n",
       "       'Engineering and engineering trades, not further defined',\n",
       "       'Pharmacy', 'Audio-visual techniques and media production',\n",
       "       'Psychology', 'Medicine', 'Architecture and town planning',\n",
       "       'Dental studies', 'Literature and linguistics',\n",
       "       'Engineering and engineering trades',\n",
       "       'Education, not further defined', 'Languages, not further defined',\n",
       "       'Law', 'Biochemistry', 'Management and administration', 'Biology',\n",
       "       'Transport services', 'Education',\n",
       "       'Architecture and construction, not further defined',\n",
       "       'Training for pre-school teachers', 'Business and administration',\n",
       "       'Music and performing arts', 'Biological and related sciences',\n",
       "       'Philosophy and ethics', 'Chemistry',\n",
       "       'Political sciences and civics', 'Education science',\n",
       "       'Languages, not elsewhere classified', 'Nursing and midwifery',\n",
       "       'Health, not further defined', 'Sociology and cultural studies',\n",
       "       'Economics',\n",
       "       'Information and Communication Technologies (ICTs), not further defined',\n",
       "       'Humanities (except languages), not further defined',\n",
       "       'Arts, not further defined',\n",
       "       'Health and Welfare, inter-disciplinary programmes',\n",
       "       'Mechanics and metal trades',\n",
       "       'Social and behavioural sciences, not elsewhere classified',\n",
       "       'Health', 'Teacher training with subject specialization',\n",
       "       'Physics', 'Information and Communication Technologies (ICTs)',\n",
       "       'Travel, tourism and leisure',\n",
       "       'Journalism and information, not further defined',\n",
       "       'Motor vehicles, ships and aircraft',\n",
       "       'Teacher training without subject specialization',\n",
       "       'Hotel, restaurants and catering', 'Therapy and rehabilitation',\n",
       "       'Religion and theology', 'Services', 'Language acquisition',\n",
       "       'Agriculture, forestry, fisheries and veterinary', 'Fine arts',\n",
       "       'Social and behavioural sciences, not further defined',\n",
       "       'Biological and related sciences, not elsewhere classifed',\n",
       "       'Engineering, manufacturing and construction',\n",
       "       'Agriculture, not further defined',\n",
       "       'Building and civil engineering', 'Social work and counselling',\n",
       "       'Wholesale and retail sales',\n",
       "       'Engineering and engineering trades, not elsewhere classified',\n",
       "       'Personal services, not further defined',\n",
       "       'Chemical engineering and processes', 'Journalism and reporting',\n",
       "       'Environmental sciences',\n",
       "       'Business and administration, not elsewhere classified',\n",
       "       'Computer use',\n",
       "       'Inter-disciplinary programmes and qualifications involving agriculture, forestry, fisheries and veterinary',\n",
       "       'Fashion, interior and industrial design', 'Earth sciences',\n",
       "       'Statistics', 'Marketing and advertising',\n",
       "       'Social sciences, journalism and information, inter-disciplinary programmes',\n",
       "       'Transport services, not elsewhere classified',\n",
       "       'Electricity and energy', 'Child care and youth services',\n",
       "       'Inter-disciplinary programmes and qualifications involving engineering, manufacturing and construction',\n",
       "       'Secretarial and office work', 'History and archaeology',\n",
       "       'Mathematics and statistics', 'Mathematics',\n",
       "       'Accounting and taxation',\n",
       "       'Care of the elderly and of disabled adults',\n",
       "       'Hair and beauty services', 'Health, not elsewhere classified',\n",
       "       'Sports', 'Finance, banking and insurance',\n",
       "       'Database and network design and administration', 'Languages',\n",
       "       'Natural sciences, mathematics and statistics',\n",
       "       'Manufacturing and processing, not elsewhere classified',\n",
       "       'Textiles (clothes, footwear and leather)', 'Veterinary',\n",
       "       'Electronics and automation',\n",
       "       'Environment, not elsewhere classified', 'Handicrafts', 'Arts',\n",
       "       'Biological and related sciences, not further defined',\n",
       "       'Personal services', 'Crop and livestock production',\n",
       "       'Information and Communication Technologies (ICTs), not elsewhere classified',\n",
       "       'Architecture and construction', 'Agriculture',\n",
       "       'Humanities (except languages), not elsewhere classified',\n",
       "       'Humanities (except languages)',\n",
       "       'Arts and humanities, inter-disciplinary programmes',\n",
       "       'Horticulture', 'Work skills', 'Business, administration and law',\n",
       "       'Law, not elsewhere classified',\n",
       "       'Architecture and construction, not elsewhere classified',\n",
       "       'Software and applications development and analysis',\n",
       "       'Manufacturing and processing, not further defined',\n",
       "       'Inter-disciplinary programmes and qualifications involving business, administration and law',\n",
       "       'Medical diagnostic and treatment technology',\n",
       "       'Agriculture, not elsewhere classified', 'Security services',\n",
       "       'Journalism and information', 'Health and welfare',\n",
       "       'Materials (glass, paper, plastic and wood)',\n",
       "       'Arts and humanities',\n",
       "       'Social sciences, journalism and information',\n",
       "       'Education, not elsewhere classified', 'Environment',\n",
       "       'Business, administration and law not elsewhere classified',\n",
       "       'Community sanitation', 'Forestry',\n",
       "       'Protection of persons and property', 'Mining and extraction',\n",
       "       'Physical sciences, not further defined',\n",
       "       'Library, information and archival studies',\n",
       "       'Information and Communication Technologies (ICTs), inter-disciplinary programmes',\n",
       "       'Arts, not elsewhere classified',\n",
       "       'Veterinary, not elsewhere classified',\n",
       "       'Mathematics and statistics, not further defined',\n",
       "       'Environment, not further defined',\n",
       "       'Environmental protection technology',\n",
       "       'Hygiene and occupational health services, not further defined',\n",
       "       'Services, inter-disciplinary programmes',\n",
       "       'Forestry, not elsewhere classified',\n",
       "       'Social and behavioural sciences', 'Welfare',\n",
       "       'Inter-disciplinary programmes and qualifications involving natural sciences, mathematics and statistics',\n",
       "       'Engineering, manufacturing and construction not elsewhere classified',\n",
       "       'Manufacturing and processing', 'Domestic services',\n",
       "       'Physical sciences',\n",
       "       'Inter-disciplinary programmes and qualifications involving education',\n",
       "       'Natural environments and wildlife',\n",
       "       'Personal services, not elsewhere classified',\n",
       "       'Occupational health and safety',\n",
       "       'Agriculture, forestry, fisheries and veterinary not elsewhere classified',\n",
       "       'Military and defence',\n",
       "       'Journalism and information, not elsewhere classified',\n",
       "       'Physical sciences, not elsewhere classified',\n",
       "       'Security services, not elsewhere classified',\n",
       "       'Security services, not further defined',\n",
       "       'Welfare, not elsewhere classified', 'Fisheries',\n",
       "       'Mathematics and statistics, not elsewhere classified',\n",
       "       'Hygiene and occupational health services',\n",
       "       'Welfare, not further defined',\n",
       "       'Traditional and complementary medicine and therapy'], dtype=object)"
      ]
     },
     "execution_count": 16,
     "metadata": {},
     "output_type": "execute_result"
    }
   ],
   "source": [
    "df['Field of Education'].unique()"
   ]
  },
  {
   "cell_type": "code",
   "execution_count": 17,
   "id": "7682ef05",
   "metadata": {
    "scrolled": true
   },
   "outputs": [
    {
     "data": {
      "text/plain": [
       "2379"
      ]
     },
     "execution_count": 17,
     "metadata": {},
     "output_type": "execute_result"
    }
   ],
   "source": [
    "len(df[df['Field of Education'] == \"? Unknown ?\"])"
   ]
  },
  {
   "cell_type": "markdown",
   "id": "0079138f",
   "metadata": {},
   "source": [
    "#### THere are a lot of Unknown fields, so we will keep it Unknown "
   ]
  },
  {
   "cell_type": "code",
   "execution_count": 18,
   "id": "5f11e26e",
   "metadata": {},
   "outputs": [],
   "source": [
    "df['Field of Education'] = df['Field of Education'].replace(\"? Unknown ?\", \"Other\")"
   ]
  },
  {
   "cell_type": "markdown",
   "id": "59ce3490",
   "metadata": {},
   "source": [
    "### Let us start with Participant Nationality"
   ]
  },
  {
   "cell_type": "code",
   "execution_count": 19,
   "id": "032c0446",
   "metadata": {},
   "outputs": [
    {
     "data": {
      "text/plain": [
       "array(['PT', 'AT', 'BY', 'FR', 'IT', 'LT', 'BG', 'ES', 'LV', 'PL', 'NL',\n",
       "       'DE', 'UK', 'HU', 'RO', 'EL', 'FI', 'SI', 'EE', 'CZ', 'BE', 'MA',\n",
       "       'UA', 'MK', 'TR', 'DK', 'SE', 'UY', 'SK', 'IE', 'BA', 'HR', 'AL',\n",
       "       'MX', 'MY', 'GE', 'PE', 'GH', 'CN', '-', 'RS', 'MD', 'IQ', 'LU',\n",
       "       'XK', 'MT', 'RU', 'NO', 'PS', 'IS', 'JP', 'TN', 'TW', 'AM', 'BR',\n",
       "       'EC', 'CY', 'NG', 'VN', 'US', 'ME', 'KZ', 'CD', 'LI', 'AD', 'KG',\n",
       "       'SG', 'NP', 'SY', 'AU', 'EG', 'UZ', 'IL', 'GM', 'IN', 'JO', 'ET',\n",
       "       'PK', 'CV', 'CH', 'ID', 'AF', 'IR', 'CU', 'BD', 'MM', 'LB', 'PH',\n",
       "       'CA', 'AZ', 'BJ', 'LK', 'BF', 'KR', 'ZW', 'CL', 'TJ', 'SO', 'CO',\n",
       "       'PY', 'UG', 'DZ', 'KH', 'CI', 'MZ', 'MR', 'MU', 'MG', nan, 'NI',\n",
       "       'GA', 'RE', 'TH', 'GN', 'ML', 'QA', 'MN', 'TG', 'DO', 'HK', 'GT',\n",
       "       'LR', 'SV'], dtype=object)"
      ]
     },
     "execution_count": 19,
     "metadata": {},
     "output_type": "execute_result"
    }
   ],
   "source": [
    "df['Participant Nationality'].unique()"
   ]
  },
  {
   "cell_type": "code",
   "execution_count": 20,
   "id": "361e7583",
   "metadata": {},
   "outputs": [],
   "source": [
    "df['Participant Nationality'] = df['Participant Nationality'].replace(\"-\", None)"
   ]
  },
  {
   "cell_type": "code",
   "execution_count": 21,
   "id": "3eec97bf",
   "metadata": {},
   "outputs": [],
   "source": [
    "df['Participant Nationality'] = df['Participant Nationality'].ffill()"
   ]
  },
  {
   "cell_type": "markdown",
   "id": "a3913980",
   "metadata": {},
   "source": [
    "#### Create new column with country name to be readable in visualization part"
   ]
  },
  {
   "cell_type": "code",
   "execution_count": 22,
   "id": "ff595796",
   "metadata": {},
   "outputs": [
    {
     "data": {
      "text/plain": [
       "0          Portugal\n",
       "1           Austria\n",
       "2           Belarus\n",
       "3            France\n",
       "4             Italy\n",
       "           ...     \n",
       "9995    Netherlands\n",
       "9996        Romania\n",
       "9997             UK\n",
       "9998          Italy\n",
       "9999          Italy\n",
       "Name: New Participant Nationality, Length: 10000, dtype: object"
      ]
     },
     "execution_count": 22,
     "metadata": {},
     "output_type": "execute_result"
    }
   ],
   "source": [
    "# New column for countries names\n",
    "df[\"New Participant Nationality\"] = df['Participant Nationality'].apply(lambda x:countries(x))\n",
    "df[\"New Participant Nationality\"]"
   ]
  },
  {
   "cell_type": "code",
   "execution_count": 23,
   "id": "65ea1ed4",
   "metadata": {},
   "outputs": [
    {
     "data": {
      "text/plain": [
       "['UK', 'EL', 'XK']"
      ]
     },
     "execution_count": 23,
     "metadata": {},
     "output_type": "execute_result"
    }
   ],
   "source": [
    "[i for i in list(df[\"New Participant Nationality\"].unique()) if len(i) == 2]"
   ]
  },
  {
   "cell_type": "markdown",
   "id": "4812d034",
   "metadata": {},
   "source": [
    "#### Handle 3 values manualy"
   ]
  },
  {
   "cell_type": "code",
   "execution_count": 24,
   "id": "b9930592",
   "metadata": {},
   "outputs": [],
   "source": [
    "df['New Participant Nationality'] = df['New Participant Nationality'].replace(\n",
    "            {\"UK\":\"United Kingdom\",\"EL\":\"Greece\",\"XK\":\"Kosovo\"}\n",
    ")"
   ]
  },
  {
   "cell_type": "markdown",
   "id": "680617b1",
   "metadata": {},
   "source": [
    "### Let us start with Education Level"
   ]
  },
  {
   "cell_type": "code",
   "execution_count": 25,
   "id": "6e4979fb",
   "metadata": {},
   "outputs": [
    {
     "data": {
      "text/plain": [
       "array(['ISCED-6 - First cycle / Bachelor’s or equivalent level (EQF-6)',\n",
       "       '??? - ? Unknown ?',\n",
       "       'ISCED-7 - Second cycle / Master’s or equivalent level (EQF-7)',\n",
       "       'ISCED-9 - Not elsewhere classified',\n",
       "       'ISCED-4 - Post-secondary non-tertiary education',\n",
       "       'ISCED-3 - Upper secondary education',\n",
       "       'ISCED-5 - Short-cycle within the first cycle / Short-cycle tertiary education (EQF-5)',\n",
       "       'ISCED-8 - Third cycle / Doctoral or equivalent level (EQF-8)',\n",
       "       'ISCED-2 - Lower secondary education'], dtype=object)"
      ]
     },
     "execution_count": 25,
     "metadata": {},
     "output_type": "execute_result"
    }
   ],
   "source": [
    "df['Education Level'].unique()"
   ]
  },
  {
   "cell_type": "markdown",
   "id": "d51598c0",
   "metadata": {},
   "source": [
    "#### Handling the values with replace function"
   ]
  },
  {
   "cell_type": "code",
   "execution_count": 26,
   "id": "0af3e876",
   "metadata": {},
   "outputs": [],
   "source": [
    "df['New Education Level'] = df['Education Level'].replace({\n",
    "    'ISCED-6 - First cycle / Bachelor’s or equivalent level (EQF-6)':'Bachelor',\n",
    "    'ISCED-7 - Second cycle / Master’s or equivalent level (EQF-7)':'Master',\n",
    "    '??? - ? Unknown ?':'Unknown',\n",
    "    'ISCED-9 - Not elsewhere classified':'Not Classified',\n",
    "    'ISCED-4 - Post-secondary non-tertiary education':'Post-Secondary Education',\n",
    "    'ISCED-3 - Upper secondary education':'Upper Secondary Education',\n",
    "    'ISCED-5 - Short-cycle within the first cycle / Short-cycle tertiary education (EQF-5)':'Tertiary Education',\n",
    "    'ISCED-8 - Third cycle / Doctoral or equivalent level (EQF-8)':'Doctoral',\n",
    "    'ISCED-2 - Lower secondary education':'Lower Secondary Education'\n",
    "})"
   ]
  },
  {
   "cell_type": "code",
   "execution_count": 27,
   "id": "7983f6f4",
   "metadata": {},
   "outputs": [
    {
     "data": {
      "text/plain": [
       "array(['Bachelor', 'Unknown', 'Master', 'Not Classified',\n",
       "       'Post-Secondary Education', 'Upper Secondary Education',\n",
       "       'Tertiary Education', 'Doctoral', 'Lower Secondary Education'],\n",
       "      dtype=object)"
      ]
     },
     "execution_count": 27,
     "metadata": {},
     "output_type": "execute_result"
    }
   ],
   "source": [
    "df['New Education Level'].unique()"
   ]
  },
  {
   "cell_type": "markdown",
   "id": "3f578a3a",
   "metadata": {},
   "source": [
    "### Let us start with gender column"
   ]
  },
  {
   "cell_type": "code",
   "execution_count": 28,
   "id": "95907f35",
   "metadata": {},
   "outputs": [
    {
     "data": {
      "text/plain": [
       "array(['Male', 'Female', 'Undefined'], dtype=object)"
      ]
     },
     "execution_count": 28,
     "metadata": {},
     "output_type": "execute_result"
    }
   ],
   "source": [
    "# Participant Gender needs proccessing\n",
    "df['Participant Gender'].unique()"
   ]
  },
  {
   "cell_type": "markdown",
   "id": "a1cf4309",
   "metadata": {},
   "source": [
    "#### Handle gender"
   ]
  },
  {
   "cell_type": "code",
   "execution_count": 29,
   "id": "b2b9d821",
   "metadata": {},
   "outputs": [],
   "source": [
    "df['Participant Gender'] = df['Participant Gender'].replace(\"Undefined\", None)"
   ]
  },
  {
   "cell_type": "code",
   "execution_count": 30,
   "id": "dec01e6c",
   "metadata": {},
   "outputs": [],
   "source": [
    "# Fill missing \n",
    "df['Participant Gender'] = df['Participant Gender'].ffill()"
   ]
  },
  {
   "cell_type": "markdown",
   "id": "be511116",
   "metadata": {},
   "source": [
    "### Let us start with Sending and Receving Country Code columns"
   ]
  },
  {
   "cell_type": "code",
   "execution_count": 31,
   "id": "052fc9b7",
   "metadata": {},
   "outputs": [
    {
     "data": {
      "text/plain": [
       "array(['PT', 'AT', 'BY', 'FR', 'IT', 'LT', 'BG', 'ES', 'LV', 'PL', 'NL',\n",
       "       'DE', 'UK', 'HU', 'RO', 'EL', 'FI', 'SI', 'EE', 'CZ', 'BE', 'UA',\n",
       "       'MK', 'TR', 'DK', 'SE', 'NO', 'BA', 'HR', 'AL', 'SK', 'GE', 'IE',\n",
       "       'RS', 'LU', 'XK', 'MT', 'RU', 'IS', 'JP', 'TN', 'TW', 'AM', 'CY',\n",
       "       'MY', 'ME', 'MA', 'MD', 'US', 'CN', 'LI', 'KG', 'SG', 'NP', 'UY',\n",
       "       'IL', 'EG', 'JO', 'ET', 'PS', 'CU', 'LB', 'AZ', 'CL', 'BT', 'CA',\n",
       "       'IN', 'KH', 'UZ', 'IQ', 'MG', nan, 'KZ', 'PK', 'UG', 'MN', 'AU',\n",
       "       'BF', 'HK', 'TH', 'VN', 'DZ', 'BR'], dtype=object)"
      ]
     },
     "execution_count": 31,
     "metadata": {},
     "output_type": "execute_result"
    }
   ],
   "source": [
    "df['Sending Country Code'].unique()"
   ]
  },
  {
   "cell_type": "code",
   "execution_count": 32,
   "id": "cf1c2099",
   "metadata": {},
   "outputs": [],
   "source": [
    "# # Receiving Country code\n",
    "df[\"Receiving Country Name\"] = df['Receiving Country Code'].apply(lambda x:countries(x))\n",
    "df['Receiving Country Name'] = df['Receiving Country Name'].replace(\n",
    "            {\"UK\":\"United Kingdom\",\"EL\":\"Greece\",\"XK\":\"Kosovo\"}\n",
    ")\n",
    "\n",
    "# Sending Country Code\n",
    "df['Sending Country Code'] = df['Sending Country Code'].replace(np.nan, None)\n",
    "df['Sending Country Code'] = df['Sending Country Code'].ffill()\n",
    "df[\"Sending Country Name\"] = df['Sending Country Code'].apply(lambda x:countries(x))\n",
    "df['Sending Country Name'] = df['Sending Country Name'].replace(\n",
    "            {\"UK\":\"United Kingdom\",\"EL\":\"Greece\",\"XK\":\"Kosovo\"}\n",
    ")"
   ]
  },
  {
   "cell_type": "code",
   "execution_count": 33,
   "id": "9d1fe0ce",
   "metadata": {},
   "outputs": [
    {
     "data": {
      "text/plain": [
       "array(['Portugal', 'Austria', 'Belarus', 'France', 'Italy', 'Lithuania',\n",
       "       'Bulgaria', 'Spain', 'Latvia', 'Poland', 'Netherlands', 'Germany',\n",
       "       'United Kingdom', 'Hungary', 'Romania', 'Greece', 'Finland',\n",
       "       'Slovenia', 'Estonia', 'Czechia', 'Belgium', 'Ukraine',\n",
       "       'North Macedonia', 'Turkey', 'Denmark', 'Sweden', 'Norway',\n",
       "       'Bosnia and Herzegovina', 'Croatia', 'Albania', 'Slovakia',\n",
       "       'Georgia', 'Ireland', 'Serbia', 'Luxembourg', 'Kosovo', 'Malta',\n",
       "       'Russian Federation', 'Iceland', 'Japan', 'Tunisia',\n",
       "       'Taiwan, Province of China', 'Armenia', 'Cyprus', 'Malaysia',\n",
       "       'Montenegro', 'Morocco', 'Moldova, Republic of', 'United States',\n",
       "       'China', 'Liechtenstein', 'Kyrgyzstan', 'Singapore', 'Nepal',\n",
       "       'Uruguay', 'Israel', 'Egypt', 'Jordan', 'Ethiopia',\n",
       "       'Palestine, State of', 'Cuba', 'Lebanon', 'Azerbaijan', 'Chile',\n",
       "       'Bhutan', 'Canada', 'India', 'Cambodia', 'Uzbekistan', 'Iraq',\n",
       "       'Madagascar', 'Kazakhstan', 'Pakistan', 'Uganda', 'Mongolia',\n",
       "       'Australia', 'Burkina Faso', 'Hong Kong', 'Thailand', 'Viet Nam',\n",
       "       'Algeria', 'Brazil'], dtype=object)"
      ]
     },
     "execution_count": 33,
     "metadata": {},
     "output_type": "execute_result"
    }
   ],
   "source": [
    "df['Sending Country Name'].unique()"
   ]
  },
  {
   "cell_type": "code",
   "execution_count": 34,
   "id": "f772b4c8",
   "metadata": {},
   "outputs": [
    {
     "data": {
      "text/plain": [
       "array(['Poland', 'Ireland', 'Azerbaijan', 'United Kingdom', 'France',\n",
       "       'Italy', 'Germany', 'Czechia', 'Latvia', 'Greece', 'Hungary',\n",
       "       'Georgia', 'Finland', 'Belarus', 'Spain', 'Slovakia', 'Cyprus',\n",
       "       'Slovenia', 'Netherlands', 'Romania', 'Bulgaria', 'Portugal',\n",
       "       'Turkey', 'Lithuania', 'Denmark', 'Estonia', 'Belgium', 'Norway',\n",
       "       'Croatia', 'Austria', 'Sweden', 'Malta', 'Bosnia and Herzegovina',\n",
       "       'Japan', 'Kosovo', 'Morocco', 'Serbia', 'Iceland',\n",
       "       'North Macedonia', 'Ukraine', 'Armenia', 'Indonesia',\n",
       "       'Russian Federation', 'Hong Kong', 'Tunisia', 'Luxembourg',\n",
       "       'Albania', 'Israel', 'Montenegro', 'Canada', 'Lebanon',\n",
       "       'Moldova, Republic of', 'Jordan', 'South Africa',\n",
       "       'Korea, Republic of', 'Haiti', 'China', 'Palestine, State of',\n",
       "       'India', 'Chile', 'Mozambique', 'Thailand', 'Ethiopia',\n",
       "       'Liechtenstein', 'Malaysia', 'Brazil', 'United States', 'Viet Nam',\n",
       "       'Egypt', 'Kyrgyzstan', 'Kenya', 'Sri Lanka'], dtype=object)"
      ]
     },
     "execution_count": 34,
     "metadata": {},
     "output_type": "execute_result"
    }
   ],
   "source": [
    "df['Receiving Country Name'].unique()"
   ]
  },
  {
   "cell_type": "markdown",
   "id": "c4aab1e8",
   "metadata": {},
   "source": [
    "### Perfect columns"
   ]
  },
  {
   "cell_type": "code",
   "execution_count": 35,
   "id": "e41ba804",
   "metadata": {
    "scrolled": true
   },
   "outputs": [
    {
     "data": {
      "text/plain": [
       "array(['No', 'Yes'], dtype=object)"
      ]
     },
     "execution_count": 35,
     "metadata": {},
     "output_type": "execute_result"
    }
   ],
   "source": [
    "df[\"Special Needs\"].unique()"
   ]
  },
  {
   "cell_type": "code",
   "execution_count": 36,
   "id": "e84ef307",
   "metadata": {},
   "outputs": [
    {
     "data": {
      "text/plain": [
       "array(['No', 'Yes'], dtype=object)"
      ]
     },
     "execution_count": 36,
     "metadata": {},
     "output_type": "execute_result"
    }
   ],
   "source": [
    "df[\"Fewer Opportunities\"].unique()"
   ]
  },
  {
   "cell_type": "code",
   "execution_count": 37,
   "id": "270fc396",
   "metadata": {},
   "outputs": [
    {
     "data": {
      "text/plain": [
       "array(['No', 'Yes'], dtype=object)"
      ]
     },
     "execution_count": 37,
     "metadata": {},
     "output_type": "execute_result"
    }
   ],
   "source": [
    "df[\"GroupLeader\"].unique()"
   ]
  },
  {
   "cell_type": "code",
   "execution_count": 38,
   "id": "13d5b100",
   "metadata": {},
   "outputs": [
    {
     "data": {
      "text/plain": [
       "array([ 1,  4,  3,  2,  5,  7, 11, 13,  8,  6,  9, 10])"
      ]
     },
     "execution_count": 38,
     "metadata": {},
     "output_type": "execute_result"
    }
   ],
   "source": [
    "df['Participants'].unique()"
   ]
  },
  {
   "cell_type": "code",
   "execution_count": 39,
   "id": "50184fe3",
   "metadata": {},
   "outputs": [
    {
     "data": {
      "text/plain": [
       "array(['UNIVERSIDADE DO ALGARVE', 'UNIVERSITAET FUER BODENKULTUR WIEN',\n",
       "       'Young leaders of Mogilev', ..., 'MAGNET',\n",
       "       \"CHAMBRE DE COMMERCE ET D'INDUSTRIE DE BAYONNE PAYS BASQUE\",\n",
       "       'Associazione Amici del Tedesco'], dtype=object)"
      ]
     },
     "execution_count": 39,
     "metadata": {},
     "output_type": "execute_result"
    }
   ],
   "source": [
    "df[\"Sending Organization\"].unique()"
   ]
  },
  {
   "cell_type": "code",
   "execution_count": 40,
   "id": "941c8d64",
   "metadata": {},
   "outputs": [
    {
     "data": {
      "text/plain": [
       "array(['FARO', 'WIEN', 'Mogilev', 'GIF SUR YVETTE', 'FISCIANO SA',\n",
       "       'Borgomanero', 'MARMOUTIER', 'VILNIUS', 'SOFIA', 'VALENCIA',\n",
       "       'Mārupe, Mārupes nov.', 'MILANO', 'BIALYSTOK', 'Amsterdam', 'Hamm',\n",
       "       'MULHOUSE', 'Alicante', 'Lyon', 'Grantham', 'Mansfield', 'Pécs',\n",
       "       'CLUJ NAPOCA', 'ATHENS', 'Gödöllő', 'SASSARI', 'Madrid',\n",
       "       'Keratsini', 'Raisio', 'ANGERS', 'Paris', 'Cieszyn',\n",
       "       'St. Veit/Glan', 'Murska Sobota', 'TALLINN', 'Berlin',\n",
       "       'Velké Pavlovice', 'GENT', 'Duisburg and Essen', 'Torquay',\n",
       "       'MANCHESTER', 'Teo', 'BREST CEDEX 3', 'NANCY', 'Žamberk', 'Kiev',\n",
       "       'CRAIOVA', 'SEVILLA', 'Vratnica, Jegunovce', 'KAUNAS',\n",
       "       'SANTIAGO DE COMPOSTELA', 'COGNAC', 'DINAN', 'Kedainiai', 'Rome',\n",
       "       'MODENA', 'TAMPERE', 'Arnhem', 'Aksaray', 'Leipzig', 'Strasbourg',\n",
       "       'Roma', 'ANCENIS', 'BAYREUTH', 'Kyiv', 'Hamburg', 'HRADEC KRALOVE',\n",
       "       'MARIBOR', 'Coimbra', 'Sobreda', 'Brno', 'Vejle', 'Sheffield',\n",
       "       'Augsburg', 'Hasselt', 'MALAGA', 'Tartu', 'SZCZECIN', 'LORIENT',\n",
       "       'Bucharest', 'GRANADA', 'PORTO', 'Bonn', 'Osnabr�ck', 'Kharkiv',\n",
       "       'KATOWICE', 'Krak�w', 'Lleida', 'Rotterdam', 'The Hague', 'RIGA',\n",
       "       'MONTEMOR-O-NOVO', 'LEOBEN', 'SIEDLCE', 'BUCURESTI', 'GAVLE',\n",
       "       'ABO', 'Łódź', 'Barcelona', 'BOLOGNA', 'TAVAS'], dtype=object)"
      ]
     },
     "execution_count": 40,
     "metadata": {},
     "output_type": "execute_result"
    }
   ],
   "source": [
    "df[\"Sending City\"].unique()[:100]"
   ]
  },
  {
   "cell_type": "markdown",
   "id": "547c9f12",
   "metadata": {},
   "source": [
    "### Replace \"-\" from columns"
   ]
  },
  {
   "cell_type": "code",
   "execution_count": 41,
   "id": "fb3eee92",
   "metadata": {},
   "outputs": [],
   "source": [
    "df[\"Sending Organization\"] = df[\"Sending Organization\"].replace(\"-\",\"Unknown\")\n",
    "df[\"Sending City\"] = df[\"Sending City\"].replace(\"-\",\"Unknown\")\n",
    "df[\"Sending City\"] = df[\"Sending City\"].apply(lambda x:x.replace(\"�\",\"\"))\n",
    "df[\"Receiving City\"] = df[\"Receiving City\"].replace(\"-\",\"Unknown\")\n",
    "df[\"Receiving City\"] = df[\"Receiving City\"].apply(lambda x:x.replace(\"�\",\"\"))"
   ]
  },
  {
   "cell_type": "markdown",
   "id": "c05088f3",
   "metadata": {},
   "source": [
    "### Drop Columns who give the same values (Duplicated column), such as (Country Name) (Country Code)"
   ]
  },
  {
   "cell_type": "code",
   "execution_count": 42,
   "id": "c4de6892",
   "metadata": {},
   "outputs": [
    {
     "data": {
      "text/plain": [
       "Index(['Project Reference', 'Academic Year', 'Mobility Start Month',\n",
       "       'Mobility End Month', 'Mobility Duration', 'Activity (mob)',\n",
       "       'Field of Education', 'Participant Nationality', 'Education Level',\n",
       "       'Participant Gender', 'Participant Profile', 'Special Needs',\n",
       "       'Fewer Opportunities', 'GroupLeader', 'Participant Age',\n",
       "       'Sending Country Code', 'Sending City', 'Sending Organization',\n",
       "       'Sending Organisation Erasmus Code', 'Receiving Country Code',\n",
       "       'Receiving City', 'Receiving Organization',\n",
       "       'Receiving Organisation Erasmus Code', 'Participants',\n",
       "       'Activity Classification', 'New Participant Nationality',\n",
       "       'New Education Level', 'Receiving Country Name',\n",
       "       'Sending Country Name'],\n",
       "      dtype='object')"
      ]
     },
     "execution_count": 42,
     "metadata": {},
     "output_type": "execute_result"
    }
   ],
   "source": [
    "df.columns"
   ]
  },
  {
   "cell_type": "code",
   "execution_count": 43,
   "id": "96540d4e",
   "metadata": {},
   "outputs": [],
   "source": [
    "df = df.drop([\n",
    "                 'Mobility Start Month',\n",
    "                 'Mobility End Month',\n",
    "                 'Sending Country Code',\n",
    "                 'Sending Organisation Erasmus Code',\n",
    "                 'Receiving Country Code',\n",
    "                 'Receiving Organisation Erasmus Code',\n",
    "                 'Education Level',\n",
    "                 'Participant Nationality'\n",
    "             ], axis=1)"
   ]
  },
  {
   "cell_type": "code",
   "execution_count": 44,
   "id": "b589c97c",
   "metadata": {},
   "outputs": [
    {
     "data": {
      "text/plain": [
       "Index(['Project Reference', 'Academic Year', 'Mobility Duration',\n",
       "       'Activity (mob)', 'Field of Education', 'Participant Gender',\n",
       "       'Participant Profile', 'Special Needs', 'Fewer Opportunities',\n",
       "       'GroupLeader', 'Participant Age', 'Sending City',\n",
       "       'Sending Organization', 'Receiving City', 'Receiving Organization',\n",
       "       'Participants', 'Activity Classification',\n",
       "       'New Participant Nationality', 'New Education Level',\n",
       "       'Receiving Country Name', 'Sending Country Name'],\n",
       "      dtype='object')"
      ]
     },
     "execution_count": 44,
     "metadata": {},
     "output_type": "execute_result"
    }
   ],
   "source": [
    "df.columns"
   ]
  },
  {
   "cell_type": "markdown",
   "id": "809617fd",
   "metadata": {},
   "source": [
    "### Get New CSV File "
   ]
  },
  {
   "cell_type": "code",
   "execution_count": 55,
   "id": "e23eed78",
   "metadata": {},
   "outputs": [],
   "source": [
    "df.to_csv(\"e+ exchange data/knime_v2_Erasmus_mobility_2014_2019.csv\")"
   ]
  },
  {
   "cell_type": "code",
   "execution_count": null,
   "id": "af336bc6",
   "metadata": {},
   "outputs": [],
   "source": []
  }
 ],
 "metadata": {
  "kernelspec": {
   "display_name": "Python 3 (ipykernel)",
   "language": "python",
   "name": "python3"
  },
  "language_info": {
   "codemirror_mode": {
    "name": "ipython",
    "version": 3
   },
   "file_extension": ".py",
   "mimetype": "text/x-python",
   "name": "python",
   "nbconvert_exporter": "python",
   "pygments_lexer": "ipython3",
   "version": "3.10.2"
  }
 },
 "nbformat": 4,
 "nbformat_minor": 5
}
